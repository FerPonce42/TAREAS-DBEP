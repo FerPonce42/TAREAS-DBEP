{
 "cells": [
  {
   "cell_type": "code",
   "execution_count": 15,
   "id": "fb09d80d-699d-4713-96da-619efa9cef9b",
   "metadata": {},
   "outputs": [
    {
     "name": "stdin",
     "output_type": "stream",
     "text": [
      "Introduce la contraseña:  2\n"
     ]
    },
    {
     "name": "stdout",
     "output_type": "stream",
     "text": [
      "La contraseña no coincide\n"
     ]
    }
   ],
   "source": [
    "#  Escribir un programa que almacene la cadena de caracteres contraseña en una variable, pregunte al usuario por la\n",
    "## contraseña e imprima por pantalla si la contraseña introducida por el usuario coincide con la guardada en la variable \n",
    "key = \"contraseña\"\n",
    "password = input(\"Introduce la contraseña: \")\n",
    "if key == password.lower():\n",
    "    print(\"La contraseña coincide\")\n",
    "else:\n",
    "    print(\"La contraseña no coincide\")"
   ]
  },
  {
   "cell_type": "code",
   "execution_count": 17,
   "id": "436cb7d8-1aea-4c56-bd08-71fdb30fcbf3",
   "metadata": {},
   "outputs": [
    {
     "name": "stdin",
     "output_type": "stream",
     "text": [
      "Ingresa tu edad:  17\n",
      "Ingresa tus ingresos:  2000\n"
     ]
    },
    {
     "name": "stdout",
     "output_type": "stream",
     "text": [
      "AUN NO NECESITAS TRIBUTAR\n"
     ]
    }
   ],
   "source": [
    "#Para tributar un determinado impuesto se debe ser mayor de 18 años y tener unos ingresos iguales o superiores a  1000 € mensuales. \n",
    "#Escribir un programa que pregunte al usuario su edad y sus ingresos mensuales y muestre por pantalla si el usuario tiene que tributar o no.\n",
    "\n",
    "edad=int(input(\"Ingresa tu edad: \"))\n",
    "ingresos= float(input(\"Ingresa tus ingresos: \"))\n",
    "\n",
    "if edad>=18 and ingresos>=1000:\n",
    "    print(\"TE TOCA TRIBUTAR\") \n",
    "else:\n",
    "    print(\"AUN NO NECESITAS TRIBUTAR\")\n"
   ]
  },
  {
   "cell_type": "code",
   "execution_count": null,
   "id": "7fea2840-c918-46e9-ab04-7472074443ed",
   "metadata": {},
   "outputs": [],
   "source": [
    "#Los alumnos de un curso se han dividido en dos grupos A y B de acuerdo al sexo y el nombre. El grupo A está formado por las mujeres con \n",
    "#un nombre anterior a la M y los hombres con un nombre posterior a la N y el grupo B por el resto. Escribir un programa que pregunte \n",
    "#al usuario su nombre y sexo, y muestre por pantalla el grupo que le corresponde.\n",
    "#Mujeres(A-M)    Hombres(N-Z)\n",
    "GRUPOA\n",
    "GRUPOB\n"
   ]
  },
  {
   "cell_type": "code",
   "execution_count": null,
   "id": "75de15dd-a2be-4051-924e-cafc47bfad68",
   "metadata": {},
   "outputs": [],
   "source": [
    "##un programa que lee números y los suma hasta que el total sea mayor o igual a 21.\n",
    "#La secuencia de entrada finaliza con 0 para que el programa pueda detenerse incluso si la suma total de todos los números menos de 21.\"\"\"\n"
   ]
  },
  {
   "cell_type": "code",
   "execution_count": null,
   "id": "bd3881c0-b724-43ee-ad64-f8bc652a0baf",
   "metadata": {},
   "outputs": [],
   "source": [
    "# Imprimir los números del 1 al 50 y calcular la suma de todos los números pares y también la de los impares."
   ]
  },
  {
   "cell_type": "code",
   "execution_count": null,
   "id": "606fac5f-541f-4987-bcbd-258972ae534d",
   "metadata": {},
   "outputs": [],
   "source": [
    "#Crear un programa#(While) que solicite al usuario ingresar una frase y luego informar cuál fue la palabra más larga\n",
    "#(en caso de haber #más de una, mostrar la primera) y cuántas palabras habían. Precondición: se tomará como separador\n",
    "##de palabras al carácter “ “ (espacio), ya sea uno o más."
   ]
  }
 ],
 "metadata": {
  "kernelspec": {
   "display_name": "Python 3 (ipykernel)",
   "language": "python",
   "name": "python3"
  },
  "language_info": {
   "codemirror_mode": {
    "name": "ipython",
    "version": 3
   },
   "file_extension": ".py",
   "mimetype": "text/x-python",
   "name": "python",
   "nbconvert_exporter": "python",
   "pygments_lexer": "ipython3",
   "version": "3.12.5"
  }
 },
 "nbformat": 4,
 "nbformat_minor": 5
}
